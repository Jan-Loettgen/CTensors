{
  "nbformat": 4,
  "nbformat_minor": 0,
  "metadata": {
    "colab": {
      "name": "GU Orbit AI4EO.ipynb",
      "provenance": [],
      "collapsed_sections": [],
      "authorship_tag": "ABX9TyMCMFkVXzhSFtBq1i/jKr2I",
      "include_colab_link": true
    },
    "kernelspec": {
      "name": "python3",
      "display_name": "Python 3"
    },
    "language_info": {
      "name": "python"
    }
  },
  "cells": [
    {
      "cell_type": "markdown",
      "metadata": {
        "id": "view-in-github",
        "colab_type": "text"
      },
      "source": [
        "<a href=\"https://colab.research.google.com/github/Jan-Loettgen/CTensors/blob/main/GU_Orbit_AI4EO.ipynb\" target=\"_parent\"><img src=\"https://colab.research.google.com/assets/colab-badge.svg\" alt=\"Open In Colab\"/></a>"
      ]
    },
    {
      "cell_type": "markdown",
      "source": [
        "**Title**\n"
      ],
      "metadata": {
        "id": "MDYvU41p7cbk"
      }
    },
    {
      "cell_type": "code",
      "execution_count": 1,
      "metadata": {
        "id": "MZiF8cE13Vl2"
      },
      "outputs": [],
      "source": [
        "try:\n",
        "  # %tensorflow_version only exists in Colab.\n",
        "  %tensorflow_version 2.x\n",
        "except Exception:\n",
        "  pass"
      ]
    },
    {
      "cell_type": "markdown",
      "source": [
        "# Skeleton Code"
      ],
      "metadata": {
        "id": "pdulmA3C7sYj"
      }
    },
    {
      "cell_type": "code",
      "source": [
        "import pandas as pd\n",
        "import numpy as np\n",
        "import matplotlib.pyplot as plt"
      ],
      "metadata": {
        "id": "jWw_11QC7cEs"
      },
      "execution_count": null,
      "outputs": []
    },
    {
      "cell_type": "code",
      "source": [
        "hsi_path = 'train_data/1570.npz'\n",
        "gt_path = 'train_gt.csv'\n",
        "wavelength_path = 'wavelengths.csv'\n"
      ],
      "metadata": {
        "id": "gatcGsfZ7qlT"
      },
      "execution_count": null,
      "outputs": []
    },
    {
      "cell_type": "code",
      "source": [
        "gt_df = pd.read_csv(gt_path)\n",
        "wavelength_df = pd.read_csv(wavelength_path)\n",
        "\n",
        "gt_df[gt_df['sample_index']==1570]"
      ],
      "metadata": {
        "id": "aeyaao_J7xq5"
      },
      "execution_count": null,
      "outputs": []
    }
  ]
}